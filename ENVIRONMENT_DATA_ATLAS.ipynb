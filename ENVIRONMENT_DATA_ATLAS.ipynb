{
  "nbformat": 4,
  "nbformat_minor": 0,
  "metadata": {
    "colab": {
      "name": "ENVIRONMENT_DATA_ATLAS.ipynb",
      "provenance": [],
      "collapsed_sections": [],
      "include_colab_link": true
    },
    "kernelspec": {
      "name": "python3",
      "display_name": "Python 3"
    },
    "language_info": {
      "name": "python"
    }
  },
  "cells": [
    {
      "cell_type": "markdown",
      "metadata": {
        "id": "view-in-github",
        "colab_type": "text"
      },
      "source": [
        "<a href=\"https://colab.research.google.com/github/zhujunqing1996/2021-TAMU-datathon/blob/main/ENVIRONMENT_DATA_ATLAS.ipynb\" target=\"_parent\"><img src=\"https://colab.research.google.com/assets/colab-badge.svg\" alt=\"Open In Colab\"/></a>"
      ]
    },
    {
      "cell_type": "code",
      "metadata": {
        "id": "lMEomwrNAoYa"
      },
      "source": [
        "import pandas as pd\n",
        "import os\n",
        "import matplotlib.pyplot as plt\n",
        "import seaborn as sns\n",
        "import numpy as np\n",
        "%matplotlib inline\n",
        "import warnings\n",
        "from collections import Counter\n",
        "warnings.filterwarnings('ignore')\n",
        "from sklearn import metrics"
      ],
      "execution_count": 1,
      "outputs": []
    },
    {
      "cell_type": "code",
      "metadata": {
        "id": "G4lxYiqpI3SP"
      },
      "source": [
        "df = pd.read_csv('https://raw.githubusercontent.com/zhujunqing1996/2021-TAMU-datathon/main/DATASET_atlas%20US%20only.csv')"
      ],
      "execution_count": 13,
      "outputs": []
    },
    {
      "cell_type": "markdown",
      "metadata": {
        "id": "jpZPKgBdFWAE"
      },
      "source": [
        "# only use the data from US"
      ]
    },
    {
      "cell_type": "code",
      "metadata": {
        "colab": {
          "base_uri": "https://localhost:8080/",
          "height": 306
        },
        "id": "TXmY0VC1JVSJ",
        "outputId": "67fc2637-3024-4187-e22e-d24f0afc7ece"
      },
      "source": [
        "df.head()"
      ],
      "execution_count": 14,
      "outputs": [
        {
          "output_type": "execute_result",
          "data": {
            "text/html": [
              "<div>\n",
              "<style scoped>\n",
              "    .dataframe tbody tr th:only-of-type {\n",
              "        vertical-align: middle;\n",
              "    }\n",
              "\n",
              "    .dataframe tbody tr th {\n",
              "        vertical-align: top;\n",
              "    }\n",
              "\n",
              "    .dataframe thead th {\n",
              "        text-align: right;\n",
              "    }\n",
              "</style>\n",
              "<table border=\"1\" class=\"dataframe\">\n",
              "  <thead>\n",
              "    <tr style=\"text-align: right;\">\n",
              "      <th></th>\n",
              "      <th>Dataset</th>\n",
              "      <th>Path</th>\n",
              "      <th>Country</th>\n",
              "      <th>Country ISO Code</th>\n",
              "      <th>Topic</th>\n",
              "      <th>Subtopic</th>\n",
              "      <th>Indicator</th>\n",
              "      <th>Description</th>\n",
              "      <th>Source</th>\n",
              "      <th>Uri</th>\n",
              "      <th>Year</th>\n",
              "      <th>Month</th>\n",
              "      <th>Unit</th>\n",
              "      <th>Date</th>\n",
              "      <th>Value</th>\n",
              "    </tr>\n",
              "  </thead>\n",
              "  <tbody>\n",
              "    <tr>\n",
              "      <th>0</th>\n",
              "      <td>EDGARED2019</td>\n",
              "      <td>location=US;indicator=KN.F1;type=All;Frequency=A</td>\n",
              "      <td>United States of America</td>\n",
              "      <td>US</td>\n",
              "      <td>Environment</td>\n",
              "      <td>NaN</td>\n",
              "      <td>CO2 emissions</td>\n",
              "      <td>Carbon dioxide emissions are those stemming fr...</td>\n",
              "      <td>EDGAR</td>\n",
              "      <td>https://knoema.com/atlas/United-States-of-Amer...</td>\n",
              "      <td>1970</td>\n",
              "      <td>1</td>\n",
              "      <td>Mton CO2</td>\n",
              "      <td>1970-01-01</td>\n",
              "      <td>4685.42942</td>\n",
              "    </tr>\n",
              "    <tr>\n",
              "      <th>1</th>\n",
              "      <td>EDGARED2019</td>\n",
              "      <td>location=US;indicator=KN.F1;type=All;Frequency=A</td>\n",
              "      <td>United States of America</td>\n",
              "      <td>US</td>\n",
              "      <td>Environment</td>\n",
              "      <td>NaN</td>\n",
              "      <td>CO2 emissions</td>\n",
              "      <td>Carbon dioxide emissions are those stemming fr...</td>\n",
              "      <td>EDGAR</td>\n",
              "      <td>https://knoema.com/atlas/United-States-of-Amer...</td>\n",
              "      <td>1971</td>\n",
              "      <td>1</td>\n",
              "      <td>Mton CO2</td>\n",
              "      <td>1971-01-01</td>\n",
              "      <td>4550.80871</td>\n",
              "    </tr>\n",
              "    <tr>\n",
              "      <th>2</th>\n",
              "      <td>EDGARED2019</td>\n",
              "      <td>location=US;indicator=KN.F1;type=All;Frequency=A</td>\n",
              "      <td>United States of America</td>\n",
              "      <td>US</td>\n",
              "      <td>Environment</td>\n",
              "      <td>NaN</td>\n",
              "      <td>CO2 emissions</td>\n",
              "      <td>Carbon dioxide emissions are those stemming fr...</td>\n",
              "      <td>EDGAR</td>\n",
              "      <td>https://knoema.com/atlas/United-States-of-Amer...</td>\n",
              "      <td>1972</td>\n",
              "      <td>1</td>\n",
              "      <td>Mton CO2</td>\n",
              "      <td>1972-01-01</td>\n",
              "      <td>4799.58289</td>\n",
              "    </tr>\n",
              "    <tr>\n",
              "      <th>3</th>\n",
              "      <td>EDGARED2019</td>\n",
              "      <td>location=US;indicator=KN.F1;type=All;Frequency=A</td>\n",
              "      <td>United States of America</td>\n",
              "      <td>US</td>\n",
              "      <td>Environment</td>\n",
              "      <td>NaN</td>\n",
              "      <td>CO2 emissions</td>\n",
              "      <td>Carbon dioxide emissions are those stemming fr...</td>\n",
              "      <td>EDGAR</td>\n",
              "      <td>https://knoema.com/atlas/United-States-of-Amer...</td>\n",
              "      <td>1973</td>\n",
              "      <td>1</td>\n",
              "      <td>Mton CO2</td>\n",
              "      <td>1973-01-01</td>\n",
              "      <td>4987.24848</td>\n",
              "    </tr>\n",
              "    <tr>\n",
              "      <th>4</th>\n",
              "      <td>EDGARED2019</td>\n",
              "      <td>location=US;indicator=KN.F1;type=All;Frequency=A</td>\n",
              "      <td>United States of America</td>\n",
              "      <td>US</td>\n",
              "      <td>Environment</td>\n",
              "      <td>NaN</td>\n",
              "      <td>CO2 emissions</td>\n",
              "      <td>Carbon dioxide emissions are those stemming fr...</td>\n",
              "      <td>EDGAR</td>\n",
              "      <td>https://knoema.com/atlas/United-States-of-Amer...</td>\n",
              "      <td>1974</td>\n",
              "      <td>1</td>\n",
              "      <td>Mton CO2</td>\n",
              "      <td>1974-01-01</td>\n",
              "      <td>4822.62093</td>\n",
              "    </tr>\n",
              "  </tbody>\n",
              "</table>\n",
              "</div>"
            ],
            "text/plain": [
              "       Dataset  ...       Value\n",
              "0  EDGARED2019  ...  4685.42942\n",
              "1  EDGARED2019  ...  4550.80871\n",
              "2  EDGARED2019  ...  4799.58289\n",
              "3  EDGARED2019  ...  4987.24848\n",
              "4  EDGARED2019  ...  4822.62093\n",
              "\n",
              "[5 rows x 15 columns]"
            ]
          },
          "metadata": {},
          "execution_count": 14
        }
      ]
    },
    {
      "cell_type": "code",
      "metadata": {
        "colab": {
          "base_uri": "https://localhost:8080/",
          "height": 221
        },
        "id": "DIZfnxFiJnzr",
        "outputId": "fd41a45c-5d28-40a4-ebe9-39a727e57d79"
      },
      "source": [
        "# No 1: WB mt CO2 from gas solid liquid fuel\n",
        "Indicator1 = ['CO2 emissions from gaseous fuel consumption', 'CO2 emissions from liquid fuel consumption', 'CO2 emissions from solid fuel consumption']\n",
        "df_filter1 = df[(df['Dataset'] == 'WBWDI2019Jan') & (df['Year'] >= 1970) & (df['Indicator'].isin(Indicator1))]\n",
        "print('The unit of the values are: {}, and needs to be changed into Mt.'.format(df_filter1['Unit'].unique()[0]))\n",
        "df_1 = pd.crosstab(df_filter1.Year, df_filter1.Indicator, values = df_filter1.Value/1000, aggfunc = 'sum')\n",
        "df_1['Total CO2 (Mt) from WBWDI2019Jan'] = df_1.sum(axis = 1)\n",
        "df_1.reset_index(inplace = True)\n",
        "df_1.head()"
      ],
      "execution_count": 29,
      "outputs": [
        {
          "output_type": "stream",
          "name": "stdout",
          "text": [
            "The unit of the values are: kt, and needs to be changed into Mt.\n"
          ]
        },
        {
          "output_type": "execute_result",
          "data": {
            "text/html": [
              "<div>\n",
              "<style scoped>\n",
              "    .dataframe tbody tr th:only-of-type {\n",
              "        vertical-align: middle;\n",
              "    }\n",
              "\n",
              "    .dataframe tbody tr th {\n",
              "        vertical-align: top;\n",
              "    }\n",
              "\n",
              "    .dataframe thead th {\n",
              "        text-align: right;\n",
              "    }\n",
              "</style>\n",
              "<table border=\"1\" class=\"dataframe\">\n",
              "  <thead>\n",
              "    <tr style=\"text-align: right;\">\n",
              "      <th>Indicator</th>\n",
              "      <th>Year</th>\n",
              "      <th>CO2 emissions from gaseous fuel consumption</th>\n",
              "      <th>CO2 emissions from liquid fuel consumption</th>\n",
              "      <th>CO2 emissions from solid fuel consumption</th>\n",
              "      <th>Total CO2 (Mt) from WBWDI2019Jan</th>\n",
              "    </tr>\n",
              "  </thead>\n",
              "  <tbody>\n",
              "    <tr>\n",
              "      <th>0</th>\n",
              "      <td>1970</td>\n",
              "      <td>1060.078362</td>\n",
              "      <td>2039.750415</td>\n",
              "      <td>1169.046934</td>\n",
              "      <td>4268.875711</td>\n",
              "    </tr>\n",
              "    <tr>\n",
              "      <th>1</th>\n",
              "      <td>1971</td>\n",
              "      <td>1097.826460</td>\n",
              "      <td>2099.023803</td>\n",
              "      <td>1108.314080</td>\n",
              "      <td>4305.164343</td>\n",
              "    </tr>\n",
              "    <tr>\n",
              "      <th>2</th>\n",
              "      <td>1972</td>\n",
              "      <td>1116.586832</td>\n",
              "      <td>2271.031772</td>\n",
              "      <td>1125.761666</td>\n",
              "      <td>4513.380270</td>\n",
              "    </tr>\n",
              "    <tr>\n",
              "      <th>3</th>\n",
              "      <td>1973</td>\n",
              "      <td>1104.383056</td>\n",
              "      <td>2401.448627</td>\n",
              "      <td>1211.543797</td>\n",
              "      <td>4717.375480</td>\n",
              "    </tr>\n",
              "    <tr>\n",
              "      <th>4</th>\n",
              "      <td>1974</td>\n",
              "      <td>1053.030388</td>\n",
              "      <td>2301.790568</td>\n",
              "      <td>1197.260832</td>\n",
              "      <td>4552.081788</td>\n",
              "    </tr>\n",
              "  </tbody>\n",
              "</table>\n",
              "</div>"
            ],
            "text/plain": [
              "Indicator  Year  ...  Total CO2 (Mt) from WBWDI2019Jan\n",
              "0          1970  ...                       4268.875711\n",
              "1          1971  ...                       4305.164343\n",
              "2          1972  ...                       4513.380270\n",
              "3          1973  ...                       4717.375480\n",
              "4          1974  ...                       4552.081788\n",
              "\n",
              "[5 rows x 5 columns]"
            ]
          },
          "metadata": {},
          "execution_count": 29
        }
      ]
    },
    {
      "cell_type": "code",
      "metadata": {
        "colab": {
          "base_uri": "https://localhost:8080/",
          "height": 221
        },
        "id": "eFScDpVAe3WD",
        "outputId": "4db2e490-1fe0-4aaf-86ed-b89b78ca769e"
      },
      "source": [
        "# No 2: EDG mt CO2\n",
        "Indicator2 = ['CO2 emissions']\n",
        "df_filter2 = df[(df['Dataset'] == 'EDGARED2019') & (df['Year'] >= 1970) & (df['Indicator'].isin(Indicator2))]\n",
        "print('The unit of the values are: {}, and needs to be changed into Mt of CO2.'.format(df_filter2['Unit'].unique()[0]))\n",
        "df_2 = pd.crosstab(df_filter2.Year, df_filter2.Indicator, values = df_filter2.Value, aggfunc = 'sum')\n",
        "df_2['Total CO2 (Mt) from EDGARED2019'] = df_2.sum(axis = 1)\n",
        "df_2.reset_index(inplace = True)\n",
        "df_2.head()"
      ],
      "execution_count": 30,
      "outputs": [
        {
          "output_type": "stream",
          "name": "stdout",
          "text": [
            "The unit of the values are: Mton CO2, and needs to be changed into Mt of CO2.\n"
          ]
        },
        {
          "output_type": "execute_result",
          "data": {
            "text/html": [
              "<div>\n",
              "<style scoped>\n",
              "    .dataframe tbody tr th:only-of-type {\n",
              "        vertical-align: middle;\n",
              "    }\n",
              "\n",
              "    .dataframe tbody tr th {\n",
              "        vertical-align: top;\n",
              "    }\n",
              "\n",
              "    .dataframe thead th {\n",
              "        text-align: right;\n",
              "    }\n",
              "</style>\n",
              "<table border=\"1\" class=\"dataframe\">\n",
              "  <thead>\n",
              "    <tr style=\"text-align: right;\">\n",
              "      <th>Indicator</th>\n",
              "      <th>Year</th>\n",
              "      <th>CO2 emissions</th>\n",
              "      <th>Total CO2 (Mt) from EDGARED2019</th>\n",
              "    </tr>\n",
              "  </thead>\n",
              "  <tbody>\n",
              "    <tr>\n",
              "      <th>0</th>\n",
              "      <td>1970</td>\n",
              "      <td>4685.42942</td>\n",
              "      <td>4685.42942</td>\n",
              "    </tr>\n",
              "    <tr>\n",
              "      <th>1</th>\n",
              "      <td>1971</td>\n",
              "      <td>4550.80871</td>\n",
              "      <td>4550.80871</td>\n",
              "    </tr>\n",
              "    <tr>\n",
              "      <th>2</th>\n",
              "      <td>1972</td>\n",
              "      <td>4799.58289</td>\n",
              "      <td>4799.58289</td>\n",
              "    </tr>\n",
              "    <tr>\n",
              "      <th>3</th>\n",
              "      <td>1973</td>\n",
              "      <td>4987.24848</td>\n",
              "      <td>4987.24848</td>\n",
              "    </tr>\n",
              "    <tr>\n",
              "      <th>4</th>\n",
              "      <td>1974</td>\n",
              "      <td>4822.62093</td>\n",
              "      <td>4822.62093</td>\n",
              "    </tr>\n",
              "  </tbody>\n",
              "</table>\n",
              "</div>"
            ],
            "text/plain": [
              "Indicator  Year  CO2 emissions  Total CO2 (Mt) from EDGARED2019\n",
              "0          1970     4685.42942                       4685.42942\n",
              "1          1971     4550.80871                       4550.80871\n",
              "2          1972     4799.58289                       4799.58289\n",
              "3          1973     4987.24848                       4987.24848\n",
              "4          1974     4822.62093                       4822.62093"
            ]
          },
          "metadata": {},
          "execution_count": 30
        }
      ]
    },
    {
      "cell_type": "code",
      "metadata": {
        "colab": {
          "base_uri": "https://localhost:8080/",
          "height": 221
        },
        "id": "uckd0R6GYuXh",
        "outputId": "198e574f-d977-4486-8345-5c080c9b5cdd"
      },
      "source": [
        "# No 3: CDI mt CO2 from different sectors\n",
        "Indicator3 = ['CO2 emissions from bunker fuels', 'CO2 emissions from cement production', 'CO2 emissions from fossil-fuels', 'CO2 emissions from gas flaring']\n",
        "df_filter3 = df[(df['Dataset'] == 'CDIACGNCO2015') & (df['Year'] >= 1970) & (df['Indicator'].isin(Indicator3))]\n",
        "print('The unit of the values are: {}, and needs to be changed into Mt of CO2.'.format(df_filter3['Unit'].unique()[0]))\n",
        "df_3 = pd.crosstab(df_filter3.Year, df_filter3.Indicator, values = df_filter3.Value/1000/12*44, aggfunc = 'sum')\n",
        "df_3['Total CO2 (Mt) from CDIACGNCO2015'] = df_3.sum(axis = 1)\n",
        "df_3.reset_index(inplace = True)\n",
        "df_3.head()"
      ],
      "execution_count": 31,
      "outputs": [
        {
          "output_type": "stream",
          "name": "stdout",
          "text": [
            "The unit of the values are: Thousand metric tons of carbon, and needs to be changed into Mt of CO2.\n"
          ]
        },
        {
          "output_type": "execute_result",
          "data": {
            "text/html": [
              "<div>\n",
              "<style scoped>\n",
              "    .dataframe tbody tr th:only-of-type {\n",
              "        vertical-align: middle;\n",
              "    }\n",
              "\n",
              "    .dataframe tbody tr th {\n",
              "        vertical-align: top;\n",
              "    }\n",
              "\n",
              "    .dataframe thead th {\n",
              "        text-align: right;\n",
              "    }\n",
              "</style>\n",
              "<table border=\"1\" class=\"dataframe\">\n",
              "  <thead>\n",
              "    <tr style=\"text-align: right;\">\n",
              "      <th>Indicator</th>\n",
              "      <th>Year</th>\n",
              "      <th>CO2 emissions from bunker fuels</th>\n",
              "      <th>CO2 emissions from cement production</th>\n",
              "      <th>CO2 emissions from fossil-fuels</th>\n",
              "      <th>CO2 emissions from gas flaring</th>\n",
              "      <th>Total CO2 (Mt) from CDIACGNCO2015</th>\n",
              "    </tr>\n",
              "  </thead>\n",
              "  <tbody>\n",
              "    <tr>\n",
              "      <th>0</th>\n",
              "      <td>1970</td>\n",
              "      <td>48.656667</td>\n",
              "      <td>33.755333</td>\n",
              "      <td>4328.511000</td>\n",
              "      <td>26.268000</td>\n",
              "      <td>4437.191000</td>\n",
              "    </tr>\n",
              "    <tr>\n",
              "      <th>1</th>\n",
              "      <td>1971</td>\n",
              "      <td>46.838000</td>\n",
              "      <td>36.333000</td>\n",
              "      <td>4356.374000</td>\n",
              "      <td>15.271667</td>\n",
              "      <td>4454.816667</td>\n",
              "    </tr>\n",
              "    <tr>\n",
              "      <th>2</th>\n",
              "      <td>1972</td>\n",
              "      <td>46.141333</td>\n",
              "      <td>38.250667</td>\n",
              "      <td>4564.538000</td>\n",
              "      <td>13.317333</td>\n",
              "      <td>4662.247333</td>\n",
              "    </tr>\n",
              "    <tr>\n",
              "      <th>3</th>\n",
              "      <td>1973</td>\n",
              "      <td>53.584667</td>\n",
              "      <td>39.618333</td>\n",
              "      <td>4769.761333</td>\n",
              "      <td>13.196333</td>\n",
              "      <td>4876.160667</td>\n",
              "    </tr>\n",
              "    <tr>\n",
              "      <th>4</th>\n",
              "      <td>1974</td>\n",
              "      <td>53.075000</td>\n",
              "      <td>37.495333</td>\n",
              "      <td>4598.069667</td>\n",
              "      <td>8.906333</td>\n",
              "      <td>4697.546333</td>\n",
              "    </tr>\n",
              "  </tbody>\n",
              "</table>\n",
              "</div>"
            ],
            "text/plain": [
              "Indicator  Year  ...  Total CO2 (Mt) from CDIACGNCO2015\n",
              "0          1970  ...                        4437.191000\n",
              "1          1971  ...                        4454.816667\n",
              "2          1972  ...                        4662.247333\n",
              "3          1973  ...                        4876.160667\n",
              "4          1974  ...                        4697.546333\n",
              "\n",
              "[5 rows x 6 columns]"
            ]
          },
          "metadata": {},
          "execution_count": 31
        }
      ]
    },
    {
      "cell_type": "code",
      "metadata": {
        "colab": {
          "base_uri": "https://localhost:8080/",
          "height": 238
        },
        "id": "bpVTOqDJ5Ix4",
        "outputId": "986c4924-ebbd-4d7e-825c-4b241be18f03"
      },
      "source": [
        "# No 4: WB % CO2 from different sectors\n",
        "Indicator4 = ['CO2 emissions from electricity production (%)', 'CO2 emissions from manufacturing industries (%)', 'CO2 emissions from other sectors (%)', 'CO2 emissions: residential buildings (%)', 'CO2 emissions: transport (%)']\n",
        "df_filter4 = df[(df['Dataset'] == 'WBWDI2019Jan') & (df['Year'] >= 1970) & (df['Indicator'].isin(Indicator4)) & (df['Country'] == 'United States of America')]\n",
        "print('The unit of the values are: {}.'.format(df_filter4['Unit'].unique()[0]))\n",
        "df_4 = pd.crosstab(df_filter4.Year, df_filter4.Indicator, values = df_filter4.Value, aggfunc = 'sum')\n",
        "df_4['Total CO2 (%) from WBWDI2019Jan'] = df_4.sum(axis = 1)\n",
        "df_4.reset_index(inplace = True)\n",
        "df_4.head()"
      ],
      "execution_count": 32,
      "outputs": [
        {
          "output_type": "stream",
          "name": "stdout",
          "text": [
            "The unit of the values are: %.\n"
          ]
        },
        {
          "output_type": "execute_result",
          "data": {
            "text/html": [
              "<div>\n",
              "<style scoped>\n",
              "    .dataframe tbody tr th:only-of-type {\n",
              "        vertical-align: middle;\n",
              "    }\n",
              "\n",
              "    .dataframe tbody tr th {\n",
              "        vertical-align: top;\n",
              "    }\n",
              "\n",
              "    .dataframe thead th {\n",
              "        text-align: right;\n",
              "    }\n",
              "</style>\n",
              "<table border=\"1\" class=\"dataframe\">\n",
              "  <thead>\n",
              "    <tr style=\"text-align: right;\">\n",
              "      <th>Indicator</th>\n",
              "      <th>Year</th>\n",
              "      <th>CO2 emissions from electricity production (%)</th>\n",
              "      <th>CO2 emissions from manufacturing industries (%)</th>\n",
              "      <th>CO2 emissions from other sectors (%)</th>\n",
              "      <th>CO2 emissions: residential buildings (%)</th>\n",
              "      <th>CO2 emissions: transport (%)</th>\n",
              "      <th>Total CO2 (%) from WBWDI2019Jan</th>\n",
              "    </tr>\n",
              "  </thead>\n",
              "  <tbody>\n",
              "    <tr>\n",
              "      <th>0</th>\n",
              "      <td>1970</td>\n",
              "      <td>32.48665</td>\n",
              "      <td>22.80272</td>\n",
              "      <td>1.09926</td>\n",
              "      <td>19.02232</td>\n",
              "      <td>24.58928</td>\n",
              "      <td>100.00023</td>\n",
              "    </tr>\n",
              "    <tr>\n",
              "      <th>1</th>\n",
              "      <td>1971</td>\n",
              "      <td>33.00001</td>\n",
              "      <td>20.78338</td>\n",
              "      <td>1.81573</td>\n",
              "      <td>19.06140</td>\n",
              "      <td>25.33949</td>\n",
              "      <td>100.00001</td>\n",
              "    </tr>\n",
              "    <tr>\n",
              "      <th>2</th>\n",
              "      <td>1972</td>\n",
              "      <td>34.30646</td>\n",
              "      <td>20.12861</td>\n",
              "      <td>1.67131</td>\n",
              "      <td>18.39059</td>\n",
              "      <td>25.50304</td>\n",
              "      <td>100.00001</td>\n",
              "    </tr>\n",
              "    <tr>\n",
              "      <th>3</th>\n",
              "      <td>1973</td>\n",
              "      <td>35.55165</td>\n",
              "      <td>20.09723</td>\n",
              "      <td>1.58079</td>\n",
              "      <td>17.04822</td>\n",
              "      <td>25.72211</td>\n",
              "      <td>100.00000</td>\n",
              "    </tr>\n",
              "    <tr>\n",
              "      <th>4</th>\n",
              "      <td>1974</td>\n",
              "      <td>36.05384</td>\n",
              "      <td>19.49222</td>\n",
              "      <td>1.80745</td>\n",
              "      <td>16.68741</td>\n",
              "      <td>25.95908</td>\n",
              "      <td>100.00000</td>\n",
              "    </tr>\n",
              "  </tbody>\n",
              "</table>\n",
              "</div>"
            ],
            "text/plain": [
              "Indicator  Year  ...  Total CO2 (%) from WBWDI2019Jan\n",
              "0          1970  ...                        100.00023\n",
              "1          1971  ...                        100.00001\n",
              "2          1972  ...                        100.00001\n",
              "3          1973  ...                        100.00000\n",
              "4          1974  ...                        100.00000\n",
              "\n",
              "[5 rows x 7 columns]"
            ]
          },
          "metadata": {},
          "execution_count": 32
        }
      ]
    },
    {
      "cell_type": "code",
      "metadata": {
        "colab": {
          "base_uri": "https://localhost:8080/",
          "height": 221
        },
        "id": "bozsyLhG7X7n",
        "outputId": "8fa3b2ac-b1dd-4746-bb2d-cfaab3699631"
      },
      "source": [
        "# No 5: WB Mt of CO2 equivalent of methane\n",
        "Indicator5 = ['Methane emissions']\n",
        "df_filter5 = df[(df['Dataset'] == 'WBWDI2019Jan') & (df['Year'] >= 1970) & (df['Indicator'].isin(Indicator5))]\n",
        "print('The unit of the values are: {}, and needs to be changed into Mt.'.format(df_filter5['Unit'].unique()[0]))\n",
        "df_5 = pd.crosstab(df_filter5.Year, df_filter5.Indicator, values = df_filter5.Value/1000, aggfunc = 'sum')\n",
        "df_5['Total methane (Mt of CO2 equivalent) from WBWDI2019Jan'] = df_5.sum(axis = 1)\n",
        "df_5.reset_index(inplace = True)\n",
        "df_5.head()"
      ],
      "execution_count": 33,
      "outputs": [
        {
          "output_type": "stream",
          "name": "stdout",
          "text": [
            "The unit of the values are: kt of CO2 equivalent, and needs to be changed into Mt.\n"
          ]
        },
        {
          "output_type": "execute_result",
          "data": {
            "text/html": [
              "<div>\n",
              "<style scoped>\n",
              "    .dataframe tbody tr th:only-of-type {\n",
              "        vertical-align: middle;\n",
              "    }\n",
              "\n",
              "    .dataframe tbody tr th {\n",
              "        vertical-align: top;\n",
              "    }\n",
              "\n",
              "    .dataframe thead th {\n",
              "        text-align: right;\n",
              "    }\n",
              "</style>\n",
              "<table border=\"1\" class=\"dataframe\">\n",
              "  <thead>\n",
              "    <tr style=\"text-align: right;\">\n",
              "      <th>Indicator</th>\n",
              "      <th>Year</th>\n",
              "      <th>Methane emissions</th>\n",
              "      <th>Total methane (Mt of CO2 equivalent) from WBWDI2019Jan</th>\n",
              "    </tr>\n",
              "  </thead>\n",
              "  <tbody>\n",
              "    <tr>\n",
              "      <th>0</th>\n",
              "      <td>1970</td>\n",
              "      <td>594.255</td>\n",
              "      <td>594.255</td>\n",
              "    </tr>\n",
              "    <tr>\n",
              "      <th>1</th>\n",
              "      <td>1971</td>\n",
              "      <td>579.493</td>\n",
              "      <td>579.493</td>\n",
              "    </tr>\n",
              "    <tr>\n",
              "      <th>2</th>\n",
              "      <td>1972</td>\n",
              "      <td>586.231</td>\n",
              "      <td>586.231</td>\n",
              "    </tr>\n",
              "    <tr>\n",
              "      <th>3</th>\n",
              "      <td>1973</td>\n",
              "      <td>589.314</td>\n",
              "      <td>589.314</td>\n",
              "    </tr>\n",
              "    <tr>\n",
              "      <th>4</th>\n",
              "      <td>1974</td>\n",
              "      <td>588.197</td>\n",
              "      <td>588.197</td>\n",
              "    </tr>\n",
              "  </tbody>\n",
              "</table>\n",
              "</div>"
            ],
            "text/plain": [
              "Indicator  Year  ...  Total methane (Mt of CO2 equivalent) from WBWDI2019Jan\n",
              "0          1970  ...                                            594.255     \n",
              "1          1971  ...                                            579.493     \n",
              "2          1972  ...                                            586.231     \n",
              "3          1973  ...                                            589.314     \n",
              "4          1974  ...                                            588.197     \n",
              "\n",
              "[5 rows x 3 columns]"
            ]
          },
          "metadata": {},
          "execution_count": 33
        }
      ]
    },
    {
      "cell_type": "code",
      "metadata": {
        "colab": {
          "base_uri": "https://localhost:8080/",
          "height": 221
        },
        "id": "_pW5NfeWPK_t",
        "outputId": "be2c958f-104a-4e34-b7d3-02593bdbcab8"
      },
      "source": [
        "# No 6: CDI mt CO2 from gas solid liquid fuels\n",
        "Indicator6 = ['CO2 emissions from gas fuel consumption', 'CO2 emissions from liquid fuel consumption', 'CO2 emissions from solid fuel consumption']\n",
        "df_filter6 = df[(df['Dataset'] == 'CDIACGNCO2015') & (df['Year'] >= 1970) & (df['Indicator'].isin(Indicator6))]\n",
        "print('The unit of the values are: {}, and needs to be changed into Mt of CO2.'.format(df_filter6['Unit'].unique()[0]))\n",
        "df_6 = pd.crosstab(df_filter6.Year, df_filter6.Indicator, values = df_filter6.Value/1000/12*44, aggfunc = 'sum')\n",
        "df_6['Total CO2 (Mt) from CDIACGNCO2015'] = df_6.sum(axis = 1)\n",
        "df_6.reset_index(inplace = True)\n",
        "df_6.head()"
      ],
      "execution_count": 34,
      "outputs": [
        {
          "output_type": "stream",
          "name": "stdout",
          "text": [
            "The unit of the values are: Thousand metric tons of carbon, and needs to be changed into Mt of CO2.\n"
          ]
        },
        {
          "output_type": "execute_result",
          "data": {
            "text/html": [
              "<div>\n",
              "<style scoped>\n",
              "    .dataframe tbody tr th:only-of-type {\n",
              "        vertical-align: middle;\n",
              "    }\n",
              "\n",
              "    .dataframe tbody tr th {\n",
              "        vertical-align: top;\n",
              "    }\n",
              "\n",
              "    .dataframe thead th {\n",
              "        text-align: right;\n",
              "    }\n",
              "</style>\n",
              "<table border=\"1\" class=\"dataframe\">\n",
              "  <thead>\n",
              "    <tr style=\"text-align: right;\">\n",
              "      <th>Indicator</th>\n",
              "      <th>Year</th>\n",
              "      <th>CO2 emissions from gas fuel consumption</th>\n",
              "      <th>CO2 emissions from liquid fuel consumption</th>\n",
              "      <th>CO2 emissions from solid fuel consumption</th>\n",
              "      <th>Total CO2 (Mt) from CDIACGNCO2015</th>\n",
              "    </tr>\n",
              "  </thead>\n",
              "  <tbody>\n",
              "    <tr>\n",
              "      <th>0</th>\n",
              "      <td>1970</td>\n",
              "      <td>1059.982000</td>\n",
              "      <td>2039.565000</td>\n",
              "      <td>1168.940667</td>\n",
              "      <td>4268.487667</td>\n",
              "    </tr>\n",
              "    <tr>\n",
              "      <th>1</th>\n",
              "      <td>1971</td>\n",
              "      <td>1097.726667</td>\n",
              "      <td>2098.833000</td>\n",
              "      <td>1108.213333</td>\n",
              "      <td>4304.773000</td>\n",
              "    </tr>\n",
              "    <tr>\n",
              "      <th>2</th>\n",
              "      <td>1972</td>\n",
              "      <td>1116.485333</td>\n",
              "      <td>2270.825333</td>\n",
              "      <td>1125.659333</td>\n",
              "      <td>4512.970000</td>\n",
              "    </tr>\n",
              "    <tr>\n",
              "      <th>3</th>\n",
              "      <td>1973</td>\n",
              "      <td>1104.282667</td>\n",
              "      <td>2401.230333</td>\n",
              "      <td>1211.433667</td>\n",
              "      <td>4716.946667</td>\n",
              "    </tr>\n",
              "    <tr>\n",
              "      <th>4</th>\n",
              "      <td>1974</td>\n",
              "      <td>1052.934667</td>\n",
              "      <td>2301.581333</td>\n",
              "      <td>1197.152000</td>\n",
              "      <td>4551.668000</td>\n",
              "    </tr>\n",
              "  </tbody>\n",
              "</table>\n",
              "</div>"
            ],
            "text/plain": [
              "Indicator  Year  ...  Total CO2 (Mt) from CDIACGNCO2015\n",
              "0          1970  ...                        4268.487667\n",
              "1          1971  ...                        4304.773000\n",
              "2          1972  ...                        4512.970000\n",
              "3          1973  ...                        4716.946667\n",
              "4          1974  ...                        4551.668000\n",
              "\n",
              "[5 rows x 5 columns]"
            ]
          },
          "metadata": {},
          "execution_count": 34
        }
      ]
    },
    {
      "cell_type": "code",
      "metadata": {
        "id": "yHLrZmIZQG4H",
        "colab": {
          "base_uri": "https://localhost:8080/",
          "height": 283
        },
        "outputId": "d5c0f574-ad9b-4a23-975c-37054b9575c1"
      },
      "source": [
        "for df in [df_1, df_2, df_3, df_6]:\n",
        "    plt.plot(df['Year'], df.iloc[:,-1], label = df.columns[-1])\n",
        "plt.legend()\n",
        "plt.xlabel('Year')\n",
        "plt.ylim(3000, 6500)\n",
        "plt.ylabel('Total CO2 (Mt)')\n",
        "plt.savefig('Total CO2 vs Year of different dataset.pdf')"
      ],
      "execution_count": 40,
      "outputs": [
        {
          "output_type": "display_data",
          "data": {
            "image/png": "[encoded data removed]",
            "text/plain": [
              "<Figure size 432x288 with 1 Axes>"
            ]
          },
          "metadata": {
            "needs_background": "light"
          }
        }
      ]
    },
    {
      "cell_type": "code",
      "metadata": {
        "id": "uznFPsNeHlt4"
      },
      "source": [
        ""
      ],
      "execution_count": null,
      "outputs": []
    }
  ]
}