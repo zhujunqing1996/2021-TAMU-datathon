{
  "nbformat": 4,
  "nbformat_minor": 0,
  "metadata": {
    "colab": {
      "name": "ENVIRONMENT_DATA_ATLAS.ipynb",
      "provenance": [],
      "collapsed_sections": [],
      "include_colab_link": true
    },
    "kernelspec": {
      "name": "python3",
      "display_name": "Python 3"
    },
    "language_info": {
      "name": "python"
    }
  },
  "cells": [
    {
      "cell_type": "markdown",
      "metadata": {
        "id": "view-in-github",
        "colab_type": "text"
      },
      "source": [
        "<a href=\"https://colab.research.google.com/github/zhujunqing1996/2021-TAMU-datathon/blob/main/ENVIRONMENT_DATA_ATLAS.ipynb\" target=\"_parent\"><img src=\"https://colab.research.google.com/assets/colab-badge.svg\" alt=\"Open In Colab\"/></a>"
      ]
    },
    {
      "cell_type": "code",
      "metadata": {
        "id": "lMEomwrNAoYa"
      },
      "source": [
        "import pandas as pd\n",
        "import os\n",
        "import matplotlib.pyplot as plt\n",
        "import seaborn as sns\n",
        "import numpy as np\n",
        "%matplotlib inline\n",
        "import warnings\n",
        "from collections import Counter\n",
        "warnings.filterwarnings('ignore')\n",
        "from sklearn import metrics"
      ],
      "execution_count": null,
      "outputs": []
    },
    {
      "cell_type": "code",
      "metadata": {
        "id": "G4lxYiqpI3SP"
      },
      "source": [
        "df = pd.read_csv('https://raw.githubusercontent.com/zhujunqing1996/2021-TAMU-datathon/main/DATASET_atlas_top20%20countries.csv')"
      ],
      "execution_count": null,
      "outputs": []
    },
    {
      "cell_type": "code",
      "metadata": {
        "colab": {
          "base_uri": "https://localhost:8080/",
          "height": 607
        },
        "id": "TXmY0VC1JVSJ",
        "outputId": "bf738540-c560-4faf-e8e0-72e0278ab93d"
      },
      "source": [
        "df.head()"
      ],
      "execution_count": null,
      "outputs": [
        {
          "output_type": "execute_result",
          "data": {
            "text/html": [
              "<div>\n",
              "<style scoped>\n",
              "    .dataframe tbody tr th:only-of-type {\n",
              "        vertical-align: middle;\n",
              "    }\n",
              "\n",
              "    .dataframe tbody tr th {\n",
              "        vertical-align: top;\n",
              "    }\n",
              "\n",
              "    .dataframe thead th {\n",
              "        text-align: right;\n",
              "    }\n",
              "</style>\n",
              "<table border=\"1\" class=\"dataframe\">\n",
              "  <thead>\n",
              "    <tr style=\"text-align: right;\">\n",
              "      <th></th>\n",
              "      <th>Dataset</th>\n",
              "      <th>Path</th>\n",
              "      <th>Country</th>\n",
              "      <th>Country ISO Code</th>\n",
              "      <th>Topic</th>\n",
              "      <th>Subtopic</th>\n",
              "      <th>Indicator</th>\n",
              "      <th>Description</th>\n",
              "      <th>Source</th>\n",
              "      <th>Uri</th>\n",
              "      <th>Year</th>\n",
              "      <th>Month</th>\n",
              "      <th>Unit</th>\n",
              "      <th>Date</th>\n",
              "      <th>Value</th>\n",
              "    </tr>\n",
              "  </thead>\n",
              "  <tbody>\n",
              "    <tr>\n",
              "      <th>0</th>\n",
              "      <td>EDGARED2019</td>\n",
              "      <td>location=AU;indicator=KN.F1;type=All;Frequency=A</td>\n",
              "      <td>Australia</td>\n",
              "      <td>AU</td>\n",
              "      <td>Environment</td>\n",
              "      <td>NaN</td>\n",
              "      <td>CO2 emissions</td>\n",
              "      <td>Carbon dioxide emissions are those stemming fr...</td>\n",
              "      <td>EDGAR</td>\n",
              "      <td>https://knoema.com/atlas/Australia/CO2-emissions</td>\n",
              "      <td>1970</td>\n",
              "      <td>1</td>\n",
              "      <td>Mton CO2</td>\n",
              "      <td>1970-01-01</td>\n",
              "      <td>160.99138</td>\n",
              "    </tr>\n",
              "    <tr>\n",
              "      <th>1</th>\n",
              "      <td>EDGARED2019</td>\n",
              "      <td>location=AU;indicator=KN.F1;type=All;Frequency=A</td>\n",
              "      <td>Australia</td>\n",
              "      <td>AU</td>\n",
              "      <td>Environment</td>\n",
              "      <td>NaN</td>\n",
              "      <td>CO2 emissions</td>\n",
              "      <td>Carbon dioxide emissions are those stemming fr...</td>\n",
              "      <td>EDGAR</td>\n",
              "      <td>https://knoema.com/atlas/Australia/CO2-emissions</td>\n",
              "      <td>1971</td>\n",
              "      <td>1</td>\n",
              "      <td>Mton CO2</td>\n",
              "      <td>1971-01-01</td>\n",
              "      <td>162.29580</td>\n",
              "    </tr>\n",
              "    <tr>\n",
              "      <th>2</th>\n",
              "      <td>EDGARED2019</td>\n",
              "      <td>location=AU;indicator=KN.F1;type=All;Frequency=A</td>\n",
              "      <td>Australia</td>\n",
              "      <td>AU</td>\n",
              "      <td>Environment</td>\n",
              "      <td>NaN</td>\n",
              "      <td>CO2 emissions</td>\n",
              "      <td>Carbon dioxide emissions are those stemming fr...</td>\n",
              "      <td>EDGAR</td>\n",
              "      <td>https://knoema.com/atlas/Australia/CO2-emissions</td>\n",
              "      <td>1972</td>\n",
              "      <td>1</td>\n",
              "      <td>Mton CO2</td>\n",
              "      <td>1972-01-01</td>\n",
              "      <td>168.19456</td>\n",
              "    </tr>\n",
              "    <tr>\n",
              "      <th>3</th>\n",
              "      <td>EDGARED2019</td>\n",
              "      <td>location=AU;indicator=KN.F1;type=All;Frequency=A</td>\n",
              "      <td>Australia</td>\n",
              "      <td>AU</td>\n",
              "      <td>Environment</td>\n",
              "      <td>NaN</td>\n",
              "      <td>CO2 emissions</td>\n",
              "      <td>Carbon dioxide emissions are those stemming fr...</td>\n",
              "      <td>EDGAR</td>\n",
              "      <td>https://knoema.com/atlas/Australia/CO2-emissions</td>\n",
              "      <td>1973</td>\n",
              "      <td>1</td>\n",
              "      <td>Mton CO2</td>\n",
              "      <td>1973-01-01</td>\n",
              "      <td>177.85194</td>\n",
              "    </tr>\n",
              "    <tr>\n",
              "      <th>4</th>\n",
              "      <td>EDGARED2019</td>\n",
              "      <td>location=AU;indicator=KN.F1;type=All;Frequency=A</td>\n",
              "      <td>Australia</td>\n",
              "      <td>AU</td>\n",
              "      <td>Environment</td>\n",
              "      <td>NaN</td>\n",
              "      <td>CO2 emissions</td>\n",
              "      <td>Carbon dioxide emissions are those stemming fr...</td>\n",
              "      <td>EDGAR</td>\n",
              "      <td>https://knoema.com/atlas/Australia/CO2-emissions</td>\n",
              "      <td>1974</td>\n",
              "      <td>1</td>\n",
              "      <td>Mton CO2</td>\n",
              "      <td>1974-01-01</td>\n",
              "      <td>187.06051</td>\n",
              "    </tr>\n",
              "  </tbody>\n",
              "</table>\n",
              "</div>"
            ],
            "text/plain": [
              "       Dataset  ...      Value\n",
              "0  EDGARED2019  ...  160.99138\n",
              "1  EDGARED2019  ...  162.29580\n",
              "2  EDGARED2019  ...  168.19456\n",
              "3  EDGARED2019  ...  177.85194\n",
              "4  EDGARED2019  ...  187.06051\n",
              "\n",
              "[5 rows x 15 columns]"
            ]
          },
          "metadata": {},
          "execution_count": 39
        }
      ]
    },
    {
      "cell_type": "code",
      "metadata": {
        "colab": {
          "base_uri": "https://localhost:8080/",
          "height": 241
        },
        "id": "DIZfnxFiJnzr",
        "outputId": "0be990df-926a-4939-f828-176baa2fc9e6"
      },
      "source": [
        "# No 1: WB mt CO2 from gas solid liquid fuel\n",
        "Indicator1 = ['CO2 emissions from gaseous fuel consumption', 'CO2 emissions from liquid fuel consumption', 'CO2 emissions from solid fuel consumption']\n",
        "df_filter1 = df[(df['Dataset'] == 'WBWDI2019Jan') & (df['Year'] >= 1970) & (df['Indicator'].isin(Indicator1))]\n",
        "print('The unit of the values are: {}, and needs to be changed into Mt.'.format(df_filter1['Unit'].unique()[0]))\n",
        "df_1 = pd.crosstab(df_filter1.Year, df_filter1.Indicator, values = df_filter1.Value/1000, aggfunc = 'sum')\n",
        "df_1['Total CO2 (Mt) from WBWDI2019Jan'] = df_1.sum(axis = 1)\n",
        "df_1.reset_index(inplace = True)\n",
        "df_1.head()"
      ],
      "execution_count": null,
      "outputs": [
        {
          "output_type": "stream",
          "name": "stdout",
          "text": [
            "The unit of the values are: kt, and needs to be changed into Mt.\n"
          ]
        },
        {
          "output_type": "execute_result",
          "data": {
            "text/html": [
              "<div>\n",
              "<style scoped>\n",
              "    .dataframe tbody tr th:only-of-type {\n",
              "        vertical-align: middle;\n",
              "    }\n",
              "\n",
              "    .dataframe tbody tr th {\n",
              "        vertical-align: top;\n",
              "    }\n",
              "\n",
              "    .dataframe thead th {\n",
              "        text-align: right;\n",
              "    }\n",
              "</style>\n",
              "<table border=\"1\" class=\"dataframe\">\n",
              "  <thead>\n",
              "    <tr style=\"text-align: right;\">\n",
              "      <th>Indicator</th>\n",
              "      <th>Year</th>\n",
              "      <th>CO2 emissions from gaseous fuel consumption</th>\n",
              "      <th>CO2 emissions from liquid fuel consumption</th>\n",
              "      <th>CO2 emissions from solid fuel consumption</th>\n",
              "      <th>Total CO2 (Mt) from WBWDI2019Jan</th>\n",
              "    </tr>\n",
              "  </thead>\n",
              "  <tbody>\n",
              "    <tr>\n",
              "      <th>0</th>\n",
              "      <td>1970</td>\n",
              "      <td>1542.809576</td>\n",
              "      <td>4364.760427</td>\n",
              "      <td>4313.675450</td>\n",
              "      <td>10221.245453</td>\n",
              "    </tr>\n",
              "    <tr>\n",
              "      <th>1</th>\n",
              "      <td>1971</td>\n",
              "      <td>1643.868429</td>\n",
              "      <td>4628.894437</td>\n",
              "      <td>4332.127794</td>\n",
              "      <td>10604.890660</td>\n",
              "    </tr>\n",
              "    <tr>\n",
              "      <th>2</th>\n",
              "      <td>1972</td>\n",
              "      <td>1711.238553</td>\n",
              "      <td>5007.354506</td>\n",
              "      <td>4406.274534</td>\n",
              "      <td>11124.867593</td>\n",
              "    </tr>\n",
              "    <tr>\n",
              "      <th>3</th>\n",
              "      <td>1973</td>\n",
              "      <td>1742.778420</td>\n",
              "      <td>5355.411478</td>\n",
              "      <td>4535.756304</td>\n",
              "      <td>11633.946202</td>\n",
              "    </tr>\n",
              "    <tr>\n",
              "      <th>4</th>\n",
              "      <td>1974</td>\n",
              "      <td>1743.863852</td>\n",
              "      <td>5348.642196</td>\n",
              "      <td>4525.562044</td>\n",
              "      <td>11618.068092</td>\n",
              "    </tr>\n",
              "  </tbody>\n",
              "</table>\n",
              "</div>"
            ],
            "text/plain": [
              "Indicator  Year  ...  Total CO2 (Mt) from WBWDI2019Jan\n",
              "0          1970  ...                      10221.245453\n",
              "1          1971  ...                      10604.890660\n",
              "2          1972  ...                      11124.867593\n",
              "3          1973  ...                      11633.946202\n",
              "4          1974  ...                      11618.068092\n",
              "\n",
              "[5 rows x 5 columns]"
            ]
          },
          "metadata": {},
          "execution_count": 40
        }
      ]
    },
    {
      "cell_type": "code",
      "metadata": {
        "colab": {
          "base_uri": "https://localhost:8080/",
          "height": 223
        },
        "id": "eFScDpVAe3WD",
        "outputId": "eb0788e8-9a17-483b-f63d-9dbf950077c8"
      },
      "source": [
        "# No 2: EDG mt CO2\n",
        "Indicator2 = ['CO2 emissions']\n",
        "df_filter2 = df[(df['Dataset'] == 'EDGARED2019') & (df['Year'] >= 1970) & (df['Indicator'].isin(Indicator2))]\n",
        "print('The unit of the values are: {}, and needs to be changed into Mt of CO2.'.format(df_filter2['Unit'].unique()[0]))\n",
        "df_2 = pd.crosstab(df_filter2.Year, df_filter2.Indicator, values = df_filter2.Value, aggfunc = 'sum')\n",
        "df_2['Total CO2 (Mt) from EDGARED2019'] = df_2.sum(axis = 1)\n",
        "df_2.reset_index(inplace = True)\n",
        "df_2.head()"
      ],
      "execution_count": null,
      "outputs": [
        {
          "output_type": "stream",
          "name": "stdout",
          "text": [
            "The unit of the values are: Mton CO2, and needs to be changed into Mt of CO2.\n"
          ]
        },
        {
          "output_type": "execute_result",
          "data": {
            "text/html": [
              "<div>\n",
              "<style scoped>\n",
              "    .dataframe tbody tr th:only-of-type {\n",
              "        vertical-align: middle;\n",
              "    }\n",
              "\n",
              "    .dataframe tbody tr th {\n",
              "        vertical-align: top;\n",
              "    }\n",
              "\n",
              "    .dataframe thead th {\n",
              "        text-align: right;\n",
              "    }\n",
              "</style>\n",
              "<table border=\"1\" class=\"dataframe\">\n",
              "  <thead>\n",
              "    <tr style=\"text-align: right;\">\n",
              "      <th>Indicator</th>\n",
              "      <th>Year</th>\n",
              "      <th>CO2 emissions</th>\n",
              "      <th>Total CO2 (Mt) from EDGARED2019</th>\n",
              "    </tr>\n",
              "  </thead>\n",
              "  <tbody>\n",
              "    <tr>\n",
              "      <th>0</th>\n",
              "      <td>1970</td>\n",
              "      <td>11944.17929</td>\n",
              "      <td>11944.17929</td>\n",
              "    </tr>\n",
              "    <tr>\n",
              "      <th>1</th>\n",
              "      <td>1971</td>\n",
              "      <td>11838.34242</td>\n",
              "      <td>11838.34242</td>\n",
              "    </tr>\n",
              "    <tr>\n",
              "      <th>2</th>\n",
              "      <td>1972</td>\n",
              "      <td>12423.75139</td>\n",
              "      <td>12423.75139</td>\n",
              "    </tr>\n",
              "    <tr>\n",
              "      <th>3</th>\n",
              "      <td>1973</td>\n",
              "      <td>13141.66995</td>\n",
              "      <td>13141.66995</td>\n",
              "    </tr>\n",
              "    <tr>\n",
              "      <th>4</th>\n",
              "      <td>1974</td>\n",
              "      <td>13137.03597</td>\n",
              "      <td>13137.03597</td>\n",
              "    </tr>\n",
              "  </tbody>\n",
              "</table>\n",
              "</div>"
            ],
            "text/plain": [
              "Indicator  Year  CO2 emissions  Total CO2 (Mt) from EDGARED2019\n",
              "0          1970    11944.17929                      11944.17929\n",
              "1          1971    11838.34242                      11838.34242\n",
              "2          1972    12423.75139                      12423.75139\n",
              "3          1973    13141.66995                      13141.66995\n",
              "4          1974    13137.03597                      13137.03597"
            ]
          },
          "metadata": {},
          "execution_count": 41
        }
      ]
    },
    {
      "cell_type": "code",
      "metadata": {
        "colab": {
          "base_uri": "https://localhost:8080/",
          "height": 241
        },
        "id": "uckd0R6GYuXh",
        "outputId": "c27b2cd6-1ab1-4b6c-c5a1-968e8d5054df"
      },
      "source": [
        "# No 3: CDI mt CO2 from different sectors\n",
        "Indicator3 = ['CO2 emissions from bunker fuels', 'CO2 emissions from cement production', 'CO2 emissions from fossil-fuels', 'CO2 emissions from gas flaring']\n",
        "df_filter3 = df[(df['Dataset'] == 'CDIACGNCO2015') & (df['Year'] >= 1970) & (df['Indicator'].isin(Indicator3))]\n",
        "print('The unit of the values are: {}, and needs to be changed into Mt of CO2.'.format(df_filter3['Unit'].unique()[0]))\n",
        "df_3 = pd.crosstab(df_filter3.Year, df_filter3.Indicator, values = df_filter3.Value/1000/12*44, aggfunc = 'sum').reset_index()\n",
        "df_3['Total CO2 (Mt) from CDIACGNCO2015'] = df_3.sum(axis = 1)\n",
        "df_3.head()"
      ],
      "execution_count": null,
      "outputs": [
        {
          "output_type": "stream",
          "name": "stdout",
          "text": [
            "The unit of the values are: Thousand metric tons of carbon, and needs to be changed into Mt of CO2.\n"
          ]
        },
        {
          "output_type": "execute_result",
          "data": {
            "text/html": [
              "<div>\n",
              "<style scoped>\n",
              "    .dataframe tbody tr th:only-of-type {\n",
              "        vertical-align: middle;\n",
              "    }\n",
              "\n",
              "    .dataframe tbody tr th {\n",
              "        vertical-align: top;\n",
              "    }\n",
              "\n",
              "    .dataframe thead th {\n",
              "        text-align: right;\n",
              "    }\n",
              "</style>\n",
              "<table border=\"1\" class=\"dataframe\">\n",
              "  <thead>\n",
              "    <tr style=\"text-align: right;\">\n",
              "      <th>Indicator</th>\n",
              "      <th>Year</th>\n",
              "      <th>CO2 emissions from bunker fuels</th>\n",
              "      <th>CO2 emissions from cement production</th>\n",
              "      <th>CO2 emissions from fossil-fuels</th>\n",
              "      <th>CO2 emissions from gas flaring</th>\n",
              "      <th>Total CO2 (Mt) from CDIACGNCO2015</th>\n",
              "    </tr>\n",
              "  </thead>\n",
              "  <tbody>\n",
              "    <tr>\n",
              "      <th>0</th>\n",
              "      <td>1970</td>\n",
              "      <td>191.150667</td>\n",
              "      <td>113.340333</td>\n",
              "      <td>8137.367333</td>\n",
              "      <td>115.137000</td>\n",
              "      <td>10526.995333</td>\n",
              "    </tr>\n",
              "    <tr>\n",
              "      <th>1</th>\n",
              "      <td>1971</td>\n",
              "      <td>206.162000</td>\n",
              "      <td>127.314000</td>\n",
              "      <td>8419.953667</td>\n",
              "      <td>120.648000</td>\n",
              "      <td>10845.077667</td>\n",
              "    </tr>\n",
              "    <tr>\n",
              "      <th>2</th>\n",
              "      <td>1972</td>\n",
              "      <td>217.143667</td>\n",
              "      <td>136.491667</td>\n",
              "      <td>8836.553000</td>\n",
              "      <td>138.105000</td>\n",
              "      <td>11300.293333</td>\n",
              "    </tr>\n",
              "    <tr>\n",
              "      <th>3</th>\n",
              "      <td>1973</td>\n",
              "      <td>247.265333</td>\n",
              "      <td>150.003333</td>\n",
              "      <td>9283.497667</td>\n",
              "      <td>167.731667</td>\n",
              "      <td>11821.498000</td>\n",
              "    </tr>\n",
              "    <tr>\n",
              "      <th>4</th>\n",
              "      <td>1974</td>\n",
              "      <td>241.123667</td>\n",
              "      <td>146.967333</td>\n",
              "      <td>9166.329333</td>\n",
              "      <td>169.378000</td>\n",
              "      <td>11697.798333</td>\n",
              "    </tr>\n",
              "  </tbody>\n",
              "</table>\n",
              "</div>"
            ],
            "text/plain": [
              "Indicator  Year  ...  Total CO2 (Mt) from CDIACGNCO2015\n",
              "0          1970  ...                       10526.995333\n",
              "1          1971  ...                       10845.077667\n",
              "2          1972  ...                       11300.293333\n",
              "3          1973  ...                       11821.498000\n",
              "4          1974  ...                       11697.798333\n",
              "\n",
              "[5 rows x 6 columns]"
            ]
          },
          "metadata": {},
          "execution_count": 42
        }
      ]
    },
    {
      "cell_type": "code",
      "metadata": {
        "colab": {
          "base_uri": "https://localhost:8080/",
          "height": 258
        },
        "id": "bpVTOqDJ5Ix4",
        "outputId": "396c0db2-5085-43fc-eb48-c59f58d5c1c6"
      },
      "source": [
        "# No 4: WB % CO2 from different sectors\n",
        "Indicator4 = ['CO2 emissions from electricity production (%)', 'CO2 emissions from manufacturing industries (%)', 'CO2 emissions from other sectors (%)', 'CO2 emissions: residential buildings (%)', 'CO2 emissions: transport (%)']\n",
        "df_filter4 = df[(df['Dataset'] == 'WBWDI2019Jan') & (df['Year'] >= 1970) & (df['Indicator'].isin(Indicator4)) & (df['Country'] == 'United States of America')]\n",
        "print('The unit of the values are: {}.'.format(df_filter4['Unit'].unique()[0]))\n",
        "df_4 = pd.crosstab(df_filter4.Year, df_filter4.Indicator, values = df_filter4.Value, aggfunc = 'sum')\n",
        "df_4['Total CO2 (%)'] = df_4.sum(axis = 1)\n",
        "df_4.reset_index(inplace = True)\n",
        "df_4.head()"
      ],
      "execution_count": null,
      "outputs": [
        {
          "output_type": "stream",
          "name": "stdout",
          "text": [
            "The unit of the values are: %.\n"
          ]
        },
        {
          "output_type": "execute_result",
          "data": {
            "text/html": [
              "<div>\n",
              "<style scoped>\n",
              "    .dataframe tbody tr th:only-of-type {\n",
              "        vertical-align: middle;\n",
              "    }\n",
              "\n",
              "    .dataframe tbody tr th {\n",
              "        vertical-align: top;\n",
              "    }\n",
              "\n",
              "    .dataframe thead th {\n",
              "        text-align: right;\n",
              "    }\n",
              "</style>\n",
              "<table border=\"1\" class=\"dataframe\">\n",
              "  <thead>\n",
              "    <tr style=\"text-align: right;\">\n",
              "      <th>Indicator</th>\n",
              "      <th>Year</th>\n",
              "      <th>CO2 emissions from electricity production (%)</th>\n",
              "      <th>CO2 emissions from manufacturing industries (%)</th>\n",
              "      <th>CO2 emissions from other sectors (%)</th>\n",
              "      <th>CO2 emissions: residential buildings (%)</th>\n",
              "      <th>CO2 emissions: transport (%)</th>\n",
              "      <th>Total CO2 (%)</th>\n",
              "    </tr>\n",
              "  </thead>\n",
              "  <tbody>\n",
              "    <tr>\n",
              "      <th>0</th>\n",
              "      <td>1970</td>\n",
              "      <td>32.48665</td>\n",
              "      <td>22.80272</td>\n",
              "      <td>1.09926</td>\n",
              "      <td>19.02232</td>\n",
              "      <td>24.58928</td>\n",
              "      <td>100.00023</td>\n",
              "    </tr>\n",
              "    <tr>\n",
              "      <th>1</th>\n",
              "      <td>1971</td>\n",
              "      <td>33.00001</td>\n",
              "      <td>20.78338</td>\n",
              "      <td>1.81573</td>\n",
              "      <td>19.06140</td>\n",
              "      <td>25.33949</td>\n",
              "      <td>100.00001</td>\n",
              "    </tr>\n",
              "    <tr>\n",
              "      <th>2</th>\n",
              "      <td>1972</td>\n",
              "      <td>34.30646</td>\n",
              "      <td>20.12861</td>\n",
              "      <td>1.67131</td>\n",
              "      <td>18.39059</td>\n",
              "      <td>25.50304</td>\n",
              "      <td>100.00001</td>\n",
              "    </tr>\n",
              "    <tr>\n",
              "      <th>3</th>\n",
              "      <td>1973</td>\n",
              "      <td>35.55165</td>\n",
              "      <td>20.09723</td>\n",
              "      <td>1.58079</td>\n",
              "      <td>17.04822</td>\n",
              "      <td>25.72211</td>\n",
              "      <td>100.00000</td>\n",
              "    </tr>\n",
              "    <tr>\n",
              "      <th>4</th>\n",
              "      <td>1974</td>\n",
              "      <td>36.05384</td>\n",
              "      <td>19.49222</td>\n",
              "      <td>1.80745</td>\n",
              "      <td>16.68741</td>\n",
              "      <td>25.95908</td>\n",
              "      <td>100.00000</td>\n",
              "    </tr>\n",
              "  </tbody>\n",
              "</table>\n",
              "</div>"
            ],
            "text/plain": [
              "Indicator  Year  ...  Total CO2 (%)\n",
              "0          1970  ...      100.00023\n",
              "1          1971  ...      100.00001\n",
              "2          1972  ...      100.00001\n",
              "3          1973  ...      100.00000\n",
              "4          1974  ...      100.00000\n",
              "\n",
              "[5 rows x 7 columns]"
            ]
          },
          "metadata": {},
          "execution_count": 43
        }
      ]
    },
    {
      "cell_type": "code",
      "metadata": {
        "colab": {
          "base_uri": "https://localhost:8080/",
          "height": 223
        },
        "id": "bozsyLhG7X7n",
        "outputId": "04706777-2581-402e-821b-d65aee88837b"
      },
      "source": [
        "# No 5: WB Mt of CO2 equivalent of methane\n",
        "Indicator5 = ['Methane emissions']\n",
        "df_filter5 = df[(df['Dataset'] == 'WBWDI2019Jan') & (df['Year'] >= 1970) & (df['Indicator'].isin(Indicator5))]\n",
        "print('The unit of the values are: {}, and needs to be changed into Mt.'.format(df_filter5['Unit'].unique()[0]))\n",
        "df_5 = pd.crosstab(df_filter5.Year, df_filter5.Indicator, values = df_filter5.Value/1000, aggfunc = 'sum')\n",
        "df_5['Total methane (Mt of CO2 equivalent)'] = df_5.sum(axis = 1)\n",
        "df_5.reset_index(inplace = True)\n",
        "df_5.head()"
      ],
      "execution_count": null,
      "outputs": [
        {
          "output_type": "stream",
          "name": "stdout",
          "text": [
            "The unit of the values are: kt of CO2 equivalent, and needs to be changed into Mt.\n"
          ]
        },
        {
          "output_type": "execute_result",
          "data": {
            "text/html": [
              "<div>\n",
              "<style scoped>\n",
              "    .dataframe tbody tr th:only-of-type {\n",
              "        vertical-align: middle;\n",
              "    }\n",
              "\n",
              "    .dataframe tbody tr th {\n",
              "        vertical-align: top;\n",
              "    }\n",
              "\n",
              "    .dataframe thead th {\n",
              "        text-align: right;\n",
              "    }\n",
              "</style>\n",
              "<table border=\"1\" class=\"dataframe\">\n",
              "  <thead>\n",
              "    <tr style=\"text-align: right;\">\n",
              "      <th>Indicator</th>\n",
              "      <th>Year</th>\n",
              "      <th>Methane emissions</th>\n",
              "      <th>Total methane (Mt of CO2 equivalent)</th>\n",
              "    </tr>\n",
              "  </thead>\n",
              "  <tbody>\n",
              "    <tr>\n",
              "      <th>0</th>\n",
              "      <td>1970</td>\n",
              "      <td>3432.1125</td>\n",
              "      <td>3432.1125</td>\n",
              "    </tr>\n",
              "    <tr>\n",
              "      <th>1</th>\n",
              "      <td>1971</td>\n",
              "      <td>3430.9215</td>\n",
              "      <td>3430.9215</td>\n",
              "    </tr>\n",
              "    <tr>\n",
              "      <th>2</th>\n",
              "      <td>1972</td>\n",
              "      <td>3599.5162</td>\n",
              "      <td>3599.5162</td>\n",
              "    </tr>\n",
              "    <tr>\n",
              "      <th>3</th>\n",
              "      <td>1973</td>\n",
              "      <td>3572.7626</td>\n",
              "      <td>3572.7626</td>\n",
              "    </tr>\n",
              "    <tr>\n",
              "      <th>4</th>\n",
              "      <td>1974</td>\n",
              "      <td>3608.8931</td>\n",
              "      <td>3608.8931</td>\n",
              "    </tr>\n",
              "  </tbody>\n",
              "</table>\n",
              "</div>"
            ],
            "text/plain": [
              "Indicator  Year  Methane emissions  Total methane (Mt of CO2 equivalent)\n",
              "0          1970          3432.1125                             3432.1125\n",
              "1          1971          3430.9215                             3430.9215\n",
              "2          1972          3599.5162                             3599.5162\n",
              "3          1973          3572.7626                             3572.7626\n",
              "4          1974          3608.8931                             3608.8931"
            ]
          },
          "metadata": {},
          "execution_count": 44
        }
      ]
    },
    {
      "cell_type": "code",
      "metadata": {
        "colab": {
          "base_uri": "https://localhost:8080/",
          "height": 241
        },
        "id": "_pW5NfeWPK_t",
        "outputId": "2fe4c72d-3ec3-4434-c6f9-6e1756cecdc0"
      },
      "source": [
        "# No 6: CDI mt CO2 from gas solid liquid fuels\n",
        "Indicator6 = ['CO2 emissions from gas fuel consumption', 'CO2 emissions from liquid fuel consumption', 'CO2 emissions from solid fuel consumption']\n",
        "df_filter6 = df[(df['Dataset'] == 'CDIACGNCO2015') & (df['Year'] >= 1970) & (df['Indicator'].isin(Indicator6))]\n",
        "print('The unit of the values are: {}, and needs to be changed into Mt of CO2.'.format(df_filter6['Unit'].unique()[0]))\n",
        "df_6 = pd.crosstab(df_filter6.Year, df_filter6.Indicator, values = df_filter6.Value/1000/12*44, aggfunc = 'sum').reset_index()\n",
        "df_6['Total CO2 (Mt) from CDIACGNCO2015'] = df_6.sum(axis = 1)\n",
        "df_6.head()"
      ],
      "execution_count": null,
      "outputs": [
        {
          "output_type": "stream",
          "name": "stdout",
          "text": [
            "The unit of the values are: Thousand metric tons of carbon, and needs to be changed into Mt of CO2.\n"
          ]
        },
        {
          "output_type": "execute_result",
          "data": {
            "text/html": [
              "<div>\n",
              "<style scoped>\n",
              "    .dataframe tbody tr th:only-of-type {\n",
              "        vertical-align: middle;\n",
              "    }\n",
              "\n",
              "    .dataframe tbody tr th {\n",
              "        vertical-align: top;\n",
              "    }\n",
              "\n",
              "    .dataframe thead th {\n",
              "        text-align: right;\n",
              "    }\n",
              "</style>\n",
              "<table border=\"1\" class=\"dataframe\">\n",
              "  <thead>\n",
              "    <tr style=\"text-align: right;\">\n",
              "      <th>Indicator</th>\n",
              "      <th>Year</th>\n",
              "      <th>CO2 emissions from gas fuel consumption</th>\n",
              "      <th>CO2 emissions from liquid fuel consumption</th>\n",
              "      <th>CO2 emissions from solid fuel consumption</th>\n",
              "      <th>Total CO2 (Mt) from CDIACGNCO2015</th>\n",
              "    </tr>\n",
              "  </thead>\n",
              "  <tbody>\n",
              "    <tr>\n",
              "      <th>0</th>\n",
              "      <td>1970</td>\n",
              "      <td>1217.223333</td>\n",
              "      <td>3560.091333</td>\n",
              "      <td>3131.571667</td>\n",
              "      <td>9878.886333</td>\n",
              "    </tr>\n",
              "    <tr>\n",
              "      <th>1</th>\n",
              "      <td>1971</td>\n",
              "      <td>1275.402333</td>\n",
              "      <td>3771.339000</td>\n",
              "      <td>3125.265000</td>\n",
              "      <td>10143.006333</td>\n",
              "    </tr>\n",
              "    <tr>\n",
              "      <th>2</th>\n",
              "      <td>1972</td>\n",
              "      <td>1323.663000</td>\n",
              "      <td>4075.962000</td>\n",
              "      <td>3162.338667</td>\n",
              "      <td>10533.963667</td>\n",
              "    </tr>\n",
              "    <tr>\n",
              "      <th>3</th>\n",
              "      <td>1973</td>\n",
              "      <td>1333.002000</td>\n",
              "      <td>4354.317000</td>\n",
              "      <td>3278.436333</td>\n",
              "      <td>10938.755333</td>\n",
              "    </tr>\n",
              "    <tr>\n",
              "      <th>4</th>\n",
              "      <td>1974</td>\n",
              "      <td>1309.392333</td>\n",
              "      <td>4275.685333</td>\n",
              "      <td>3264.906333</td>\n",
              "      <td>10823.984000</td>\n",
              "    </tr>\n",
              "  </tbody>\n",
              "</table>\n",
              "</div>"
            ],
            "text/plain": [
              "Indicator  Year  ...  Total CO2 (Mt) from CDIACGNCO2015\n",
              "0          1970  ...                        9878.886333\n",
              "1          1971  ...                       10143.006333\n",
              "2          1972  ...                       10533.963667\n",
              "3          1973  ...                       10938.755333\n",
              "4          1974  ...                       10823.984000\n",
              "\n",
              "[5 rows x 5 columns]"
            ]
          },
          "metadata": {},
          "execution_count": 45
        }
      ]
    },
    {
      "cell_type": "code",
      "metadata": {
        "id": "pzLpv7ZaTVjn",
        "outputId": "c394d9d0-d20b-4418-98fa-2cfb647ed01e",
        "colab": {
          "base_uri": "https://localhost:8080/",
          "height": 297
        }
      },
      "source": [
        "for df in [df_1, df_2, df_3, df_6]:\n",
        "    plt.plot(df['Year'], df.iloc[:,-1], label = df.columns[-1])\n",
        "plt.legend()\n",
        "plt.xlabel('Year')\n",
        "plt.ylabel('Total CO2 (Mt)')"
      ],
      "execution_count": null,
      "outputs": [
        {
          "output_type": "execute_result",
          "data": {
            "text/plain": [
              "Text(0, 0.5, 'Total CO2 (Mt)')"
            ]
          },
          "metadata": {},
          "execution_count": 46
        },
        {
          "output_type": "display_data",
          "data": {
            "image/png": "[encoded data removed]",
            "text/plain": [
              "<Figure size 432x288 with 1 Axes>"
            ]
          },
          "metadata": {
            "needs_background": "light"
          }
        }
      ]
    },
    {
      "cell_type": "markdown",
      "metadata": {
        "id": "MkNH4yDlV-h7"
      },
      "source": [
        "Loading stock data from snowflake "
      ]
    },
    {
      "cell_type": "code",
      "metadata": {
        "id": "yHLrZmIZQG4H"
      },
      "source": [
        "url = 'https://raw.githubusercontent.com/qixuan-code/2021_TAMU/main/stock_priceavg_data.csv'\n",
        "volume_history = pd.read_csv(url,na_values='na')\n",
        "url2 = 'https://raw.githubusercontent.com/qixuan-code/2021_TAMU/main/COMPANY_PROFILE.csv'\n",
        "company_profile = pd.read_csv(url2,na_values='na')"
      ],
      "execution_count": null,
      "outputs": []
    },
    {
      "cell_type": "code",
      "metadata": {
        "colab": {
          "base_uri": "https://localhost:8080/",
          "height": 486
        },
        "id": "0eLqKXhsWTQ0",
        "outputId": "c36b889c-2f59-41e9-c55f-d60717eb11bf"
      },
      "source": [
        "#merge two tables in respect to symbol\n",
        "merged_table = pd.merge(volume_history,company_profile , on='SYMBOL')\n",
        "merged_table1 = merged_table[merged_table['SECTOR'].notna()]\n",
        "merged_table1.head()"
      ],
      "execution_count": null,
      "outputs": [
        {
          "output_type": "execute_result",
          "data": {
            "text/html": [
              "<div>\n",
              "<style scoped>\n",
              "    .dataframe tbody tr th:only-of-type {\n",
              "        vertical-align: middle;\n",
              "    }\n",
              "\n",
              "    .dataframe tbody tr th {\n",
              "        vertical-align: top;\n",
              "    }\n",
              "\n",
              "    .dataframe thead th {\n",
              "        text-align: right;\n",
              "    }\n",
              "</style>\n",
              "<table border=\"1\" class=\"dataframe\">\n",
              "  <thead>\n",
              "    <tr style=\"text-align: right;\">\n",
              "      <th></th>\n",
              "      <th>SYMBOL</th>\n",
              "      <th>AVG(VOLUME)</th>\n",
              "      <th>AVG(OPEN)</th>\n",
              "      <th>AVG(CLOSE)</th>\n",
              "      <th>YEAR(DATE)</th>\n",
              "      <th>ID</th>\n",
              "      <th>PRICE</th>\n",
              "      <th>BETA</th>\n",
              "      <th>VOLAVG</th>\n",
              "      <th>MKTCAP</th>\n",
              "      <th>LASTDIV</th>\n",
              "      <th>RANGE</th>\n",
              "      <th>CHANGES</th>\n",
              "      <th>COMPANYNAME</th>\n",
              "      <th>EXCHANGE</th>\n",
              "      <th>INDUSTRY</th>\n",
              "      <th>WEBSITE</th>\n",
              "      <th>DESCRIPTION</th>\n",
              "      <th>CEO</th>\n",
              "      <th>SECTOR</th>\n",
              "      <th>DCFDIFF</th>\n",
              "      <th>DCF</th>\n",
              "    </tr>\n",
              "  </thead>\n",
              "  <tbody>\n",
              "    <tr>\n",
              "      <th>3</th>\n",
              "      <td>ASR</td>\n",
              "      <td>75081.679537</td>\n",
              "      <td>130.467046</td>\n",
              "      <td>130.389614</td>\n",
              "      <td>2020</td>\n",
              "      <td>3727</td>\n",
              "      <td>114.98</td>\n",
              "      <td>0.205012</td>\n",
              "      <td>68107.0</td>\n",
              "      <td>3.357094e+09</td>\n",
              "      <td>8.64972</td>\n",
              "      <td>82.08-210.38</td>\n",
              "      <td>2.66</td>\n",
              "      <td>Grupo Aeroportuario del Sureste S.A. de C.V.</td>\n",
              "      <td>New York Stock Exchange</td>\n",
              "      <td>Airports &amp; Air Services</td>\n",
              "      <td>http://www.asur.com.mx</td>\n",
              "      <td>NaN</td>\n",
              "      <td>Mr. Adolfo Castro Rivas</td>\n",
              "      <td>Industrials</td>\n",
              "      <td>NaN</td>\n",
              "      <td>0.0</td>\n",
              "    </tr>\n",
              "    <tr>\n",
              "      <th>4</th>\n",
              "      <td>ASR</td>\n",
              "      <td>144194.444444</td>\n",
              "      <td>19.526942</td>\n",
              "      <td>19.543610</td>\n",
              "      <td>2005</td>\n",
              "      <td>3727</td>\n",
              "      <td>114.98</td>\n",
              "      <td>0.205012</td>\n",
              "      <td>68107.0</td>\n",
              "      <td>3.357094e+09</td>\n",
              "      <td>8.64972</td>\n",
              "      <td>82.08-210.38</td>\n",
              "      <td>2.66</td>\n",
              "      <td>Grupo Aeroportuario del Sureste S.A. de C.V.</td>\n",
              "      <td>New York Stock Exchange</td>\n",
              "      <td>Airports &amp; Air Services</td>\n",
              "      <td>http://www.asur.com.mx</td>\n",
              "      <td>NaN</td>\n",
              "      <td>Mr. Adolfo Castro Rivas</td>\n",
              "      <td>Industrials</td>\n",
              "      <td>NaN</td>\n",
              "      <td>0.0</td>\n",
              "    </tr>\n",
              "    <tr>\n",
              "      <th>5</th>\n",
              "      <td>ASR</td>\n",
              "      <td>58479.761905</td>\n",
              "      <td>8.077266</td>\n",
              "      <td>8.077624</td>\n",
              "      <td>2003</td>\n",
              "      <td>3727</td>\n",
              "      <td>114.98</td>\n",
              "      <td>0.205012</td>\n",
              "      <td>68107.0</td>\n",
              "      <td>3.357094e+09</td>\n",
              "      <td>8.64972</td>\n",
              "      <td>82.08-210.38</td>\n",
              "      <td>2.66</td>\n",
              "      <td>Grupo Aeroportuario del Sureste S.A. de C.V.</td>\n",
              "      <td>New York Stock Exchange</td>\n",
              "      <td>Airports &amp; Air Services</td>\n",
              "      <td>http://www.asur.com.mx</td>\n",
              "      <td>NaN</td>\n",
              "      <td>Mr. Adolfo Castro Rivas</td>\n",
              "      <td>Industrials</td>\n",
              "      <td>NaN</td>\n",
              "      <td>0.0</td>\n",
              "    </tr>\n",
              "    <tr>\n",
              "      <th>6</th>\n",
              "      <td>ASR</td>\n",
              "      <td>40111.895954</td>\n",
              "      <td>178.531272</td>\n",
              "      <td>178.655665</td>\n",
              "      <td>2021</td>\n",
              "      <td>3727</td>\n",
              "      <td>114.98</td>\n",
              "      <td>0.205012</td>\n",
              "      <td>68107.0</td>\n",
              "      <td>3.357094e+09</td>\n",
              "      <td>8.64972</td>\n",
              "      <td>82.08-210.38</td>\n",
              "      <td>2.66</td>\n",
              "      <td>Grupo Aeroportuario del Sureste S.A. de C.V.</td>\n",
              "      <td>New York Stock Exchange</td>\n",
              "      <td>Airports &amp; Air Services</td>\n",
              "      <td>http://www.asur.com.mx</td>\n",
              "      <td>NaN</td>\n",
              "      <td>Mr. Adolfo Castro Rivas</td>\n",
              "      <td>Industrials</td>\n",
              "      <td>NaN</td>\n",
              "      <td>0.0</td>\n",
              "    </tr>\n",
              "    <tr>\n",
              "      <th>7</th>\n",
              "      <td>ASR</td>\n",
              "      <td>64134.920635</td>\n",
              "      <td>160.507909</td>\n",
              "      <td>160.732672</td>\n",
              "      <td>2019</td>\n",
              "      <td>3727</td>\n",
              "      <td>114.98</td>\n",
              "      <td>0.205012</td>\n",
              "      <td>68107.0</td>\n",
              "      <td>3.357094e+09</td>\n",
              "      <td>8.64972</td>\n",
              "      <td>82.08-210.38</td>\n",
              "      <td>2.66</td>\n",
              "      <td>Grupo Aeroportuario del Sureste S.A. de C.V.</td>\n",
              "      <td>New York Stock Exchange</td>\n",
              "      <td>Airports &amp; Air Services</td>\n",
              "      <td>http://www.asur.com.mx</td>\n",
              "      <td>NaN</td>\n",
              "      <td>Mr. Adolfo Castro Rivas</td>\n",
              "      <td>Industrials</td>\n",
              "      <td>NaN</td>\n",
              "      <td>0.0</td>\n",
              "    </tr>\n",
              "  </tbody>\n",
              "</table>\n",
              "</div>"
            ],
            "text/plain": [
              "  SYMBOL    AVG(VOLUME)   AVG(OPEN)  ...       SECTOR  DCFDIFF  DCF\n",
              "3    ASR   75081.679537  130.467046  ...  Industrials      NaN  0.0\n",
              "4    ASR  144194.444444   19.526942  ...  Industrials      NaN  0.0\n",
              "5    ASR   58479.761905    8.077266  ...  Industrials      NaN  0.0\n",
              "6    ASR   40111.895954  178.531272  ...  Industrials      NaN  0.0\n",
              "7    ASR   64134.920635  160.507909  ...  Industrials      NaN  0.0\n",
              "\n",
              "[5 rows x 22 columns]"
            ]
          },
          "metadata": {},
          "execution_count": 7
        }
      ]
    },
    {
      "cell_type": "markdown",
      "metadata": {
        "id": "sIQ7AuyVWjta"
      },
      "source": [
        "SUM_Volume_per_year"
      ]
    },
    {
      "cell_type": "code",
      "metadata": {
        "id": "mJTGfsHVWe8e"
      },
      "source": [
        "#calculate total volume in respect to different sectors and years\n",
        "columns = ['AVG(VOLUME)','YEAR(DATE)','SECTOR']\n",
        "year_volume = merged_table1[columns]\n",
        "#Total_year_Volume =  pd.pivot_table(year_volume, index=[\"YEAR(DATE)\"], columns=[\"SECTOR\"], values=[\"AVG(VOLUME)\"], aggfunc=np.sum)\n",
        "Total_year_Volume = pd.crosstab(year_volume['YEAR(DATE)'],year_volume['SECTOR'], values = year_volume['AVG(VOLUME)'], aggfunc = 'sum')\n",
        "Total_year_Volume.reset_index(inplace=True)"
      ],
      "execution_count": null,
      "outputs": []
    },
    {
      "cell_type": "code",
      "metadata": {
        "id": "KkB1UruCaDzc",
        "outputId": "04f12293-b4d0-40e6-e343-7fb8e9644aaf",
        "colab": {
          "base_uri": "https://localhost:8080/",
          "height": 423
        }
      },
      "source": [
        "year_volume"
      ],
      "execution_count": null,
      "outputs": [
        {
          "output_type": "execute_result",
          "data": {
            "text/html": [
              "<div>\n",
              "<style scoped>\n",
              "    .dataframe tbody tr th:only-of-type {\n",
              "        vertical-align: middle;\n",
              "    }\n",
              "\n",
              "    .dataframe tbody tr th {\n",
              "        vertical-align: top;\n",
              "    }\n",
              "\n",
              "    .dataframe thead th {\n",
              "        text-align: right;\n",
              "    }\n",
              "</style>\n",
              "<table border=\"1\" class=\"dataframe\">\n",
              "  <thead>\n",
              "    <tr style=\"text-align: right;\">\n",
              "      <th></th>\n",
              "      <th>AVG(VOLUME)</th>\n",
              "      <th>YEAR(DATE)</th>\n",
              "      <th>SECTOR</th>\n",
              "    </tr>\n",
              "  </thead>\n",
              "  <tbody>\n",
              "    <tr>\n",
              "      <th>3</th>\n",
              "      <td>75081.679537</td>\n",
              "      <td>2020</td>\n",
              "      <td>Industrials</td>\n",
              "    </tr>\n",
              "    <tr>\n",
              "      <th>4</th>\n",
              "      <td>144194.444444</td>\n",
              "      <td>2005</td>\n",
              "      <td>Industrials</td>\n",
              "    </tr>\n",
              "    <tr>\n",
              "      <th>5</th>\n",
              "      <td>58479.761905</td>\n",
              "      <td>2003</td>\n",
              "      <td>Industrials</td>\n",
              "    </tr>\n",
              "    <tr>\n",
              "      <th>6</th>\n",
              "      <td>40111.895954</td>\n",
              "      <td>2021</td>\n",
              "      <td>Industrials</td>\n",
              "    </tr>\n",
              "    <tr>\n",
              "      <th>7</th>\n",
              "      <td>64134.920635</td>\n",
              "      <td>2019</td>\n",
              "      <td>Industrials</td>\n",
              "    </tr>\n",
              "    <tr>\n",
              "      <th>...</th>\n",
              "      <td>...</td>\n",
              "      <td>...</td>\n",
              "      <td>...</td>\n",
              "    </tr>\n",
              "    <tr>\n",
              "      <th>165712</th>\n",
              "      <td>7251.330396</td>\n",
              "      <td>2020</td>\n",
              "      <td>Financial Services</td>\n",
              "    </tr>\n",
              "    <tr>\n",
              "      <th>165713</th>\n",
              "      <td>24015.266055</td>\n",
              "      <td>2019</td>\n",
              "      <td>Industrials</td>\n",
              "    </tr>\n",
              "    <tr>\n",
              "      <th>165717</th>\n",
              "      <td>53617.000000</td>\n",
              "      <td>2019</td>\n",
              "      <td>Industrials</td>\n",
              "    </tr>\n",
              "    <tr>\n",
              "      <th>165718</th>\n",
              "      <td>150.000000</td>\n",
              "      <td>2019</td>\n",
              "      <td>Industrials</td>\n",
              "    </tr>\n",
              "    <tr>\n",
              "      <th>165719</th>\n",
              "      <td>1000.000000</td>\n",
              "      <td>2019</td>\n",
              "      <td>Industrials</td>\n",
              "    </tr>\n",
              "  </tbody>\n",
              "</table>\n",
              "<p>139719 rows × 3 columns</p>\n",
              "</div>"
            ],
            "text/plain": [
              "          AVG(VOLUME)  YEAR(DATE)              SECTOR\n",
              "3        75081.679537        2020         Industrials\n",
              "4       144194.444444        2005         Industrials\n",
              "5        58479.761905        2003         Industrials\n",
              "6        40111.895954        2021         Industrials\n",
              "7        64134.920635        2019         Industrials\n",
              "...               ...         ...                 ...\n",
              "165712    7251.330396        2020  Financial Services\n",
              "165713   24015.266055        2019         Industrials\n",
              "165717   53617.000000        2019         Industrials\n",
              "165718     150.000000        2019         Industrials\n",
              "165719    1000.000000        2019         Industrials\n",
              "\n",
              "[139719 rows x 3 columns]"
            ]
          },
          "metadata": {},
          "execution_count": 50
        }
      ]
    },
    {
      "cell_type": "markdown",
      "metadata": {
        "id": "PXEEDBdHkaH2"
      },
      "source": [
        "Correlate df_2(EDG mt CO2) with total volume per year"
      ]
    },
    {
      "cell_type": "code",
      "metadata": {
        "id": "cb1yDD11W0Ot",
        "outputId": "ff5e3c1d-8dba-4542-b4b8-7be1ab057f23",
        "colab": {
          "base_uri": "https://localhost:8080/",
          "height": 166
        }
      },
      "source": [
        "a = pd.merge(df_1,Total_year_Volume, left_on='Year', right_on='YEAR(DATE)')"
      ],
      "execution_count": null,
      "outputs": [
        {
          "output_type": "error",
          "ename": "NameError",
          "evalue": "ignored",
          "traceback": [
            "\u001b[0;31m---------------------------------------------------------------------------\u001b[0m",
            "\u001b[0;31mNameError\u001b[0m                                 Traceback (most recent call last)",
            "\u001b[0;32m<ipython-input-36-bfe652d4f867>\u001b[0m in \u001b[0;36m<module>\u001b[0;34m()\u001b[0m\n\u001b[0;32m----> 1\u001b[0;31m \u001b[0ma\u001b[0m \u001b[0;34m=\u001b[0m \u001b[0mpd\u001b[0m\u001b[0;34m.\u001b[0m\u001b[0mmerge\u001b[0m\u001b[0;34m(\u001b[0m\u001b[0mdf_1\u001b[0m\u001b[0;34m,\u001b[0m\u001b[0mTotal_year_Volume\u001b[0m\u001b[0;34m,\u001b[0m \u001b[0mleft_on\u001b[0m\u001b[0;34m=\u001b[0m\u001b[0;34m'Year'\u001b[0m\u001b[0;34m,\u001b[0m \u001b[0mright_on\u001b[0m\u001b[0;34m=\u001b[0m\u001b[0;34m'YEAR(DATE)'\u001b[0m\u001b[0;34m)\u001b[0m\u001b[0;34m\u001b[0m\u001b[0;34m\u001b[0m\u001b[0m\n\u001b[0m",
            "\u001b[0;31mNameError\u001b[0m: name 'df_1' is not defined"
          ]
        }
      ]
    },
    {
      "cell_type": "code",
      "metadata": {
        "id": "j6xiDUnQhqgX"
      },
      "source": [
        "del a['YEAR(DATE)']"
      ],
      "execution_count": null,
      "outputs": []
    },
    {
      "cell_type": "code",
      "metadata": {
        "colab": {
          "base_uri": "https://localhost:8080/",
          "height": 809
        },
        "id": "meNpaWKpfxL-",
        "outputId": "77648588-8750-4071-bcc9-370227a217ab"
      },
      "source": [
        "corr = a.corr()\n",
        "plt.figure(figsize=(12, 12))\n",
        "ax = sns.heatmap(\n",
        "    corr, \n",
        "    vmin=-1, vmax=1, center=0, cmap = 'bwr',\n",
        "    square=True\n",
        ")\n",
        "ax.set_xticklabels(\n",
        "    ax.get_xticklabels(),\n",
        "    rotation=45,\n",
        "    horizontalalignment='right'\n",
        ");\n",
        "\n",
        "plt.show()"
      ],
      "execution_count": null,
      "outputs": [
        {
          "output_type": "display_data",
          "data": {
            "image/png": "[encoded data removed]",
            "text/plain": [
              "<Figure size 864x864 with 2 Axes>"
            ]
          },
          "metadata": {
            "needs_background": "light"
          }
        }
      ]
    },
    {
      "cell_type": "code",
      "metadata": {
        "id": "0xKV4nJulaUZ",
        "colab": {
          "base_uri": "https://localhost:8080/"
        },
        "outputId": "32e8bf80-6cc9-4a58-d0e2-797aee9b0a63"
      },
      "source": [
        "a.columns"
      ],
      "execution_count": null,
      "outputs": [
        {
          "output_type": "execute_result",
          "data": {
            "text/plain": [
              "Index(['Year', 'CO2 emissions from gaseous fuel consumption',\n",
              "       'CO2 emissions from liquid fuel consumption',\n",
              "       'CO2 emissions from solid fuel consumption', 'Total CO2 (Mt)',\n",
              "       'Basic Materials', 'Building', 'Communication Services',\n",
              "       'Conglomerates', 'Consumer Cyclical', 'Consumer Defensive', 'Energy',\n",
              "       'Financial', 'Financial Services', 'Healthcare', 'Industrial Goods',\n",
              "       'Industrials', 'Media', 'Pharmaceuticals', 'Real Estate', 'Services',\n",
              "       'Technology', 'Utilities'],\n",
              "      dtype='object')"
            ]
          },
          "metadata": {},
          "execution_count": 80
        }
      ]
    },
    {
      "cell_type": "code",
      "metadata": {
        "id": "361G8Xw_lcDb"
      },
      "source": [
        "feature_selection = ['Year', 'CO2 emissions from gaseous fuel consumption',\n",
        "       'CO2 emissions from liquid fuel consumption',\n",
        "       'CO2 emissions from solid fuel consumption', 'Total CO2 (Mt)','Financial Services']\n",
        "a = a[feature_selection]"
      ],
      "execution_count": null,
      "outputs": []
    },
    {
      "cell_type": "code",
      "metadata": {
        "id": "ce_1KMFLm1iH"
      },
      "source": [
        ""
      ],
      "execution_count": null,
      "outputs": []
    },
    {
      "cell_type": "markdown",
      "metadata": {
        "id": "z7mEVCfzk5hp"
      },
      "source": [
        "model_training "
      ]
    },
    {
      "cell_type": "code",
      "metadata": {
        "id": "5Z32HbWzm2OX"
      },
      "source": [
        "a.dropna(inplace=True)"
      ],
      "execution_count": null,
      "outputs": []
    },
    {
      "cell_type": "code",
      "metadata": {
        "id": "AjvyvueRlAf-"
      },
      "source": [
        "from sklearn.model_selection import train_test_split\n",
        "target_value = 'Financial Services'\n",
        "y = a[target_value]\n",
        "X = a.drop(columns = target_value)\n",
        "X_train, X_test, y_train, y_test = train_test_split(X, y, random_state=0)"
      ],
      "execution_count": null,
      "outputs": []
    },
    {
      "cell_type": "code",
      "metadata": {
        "id": "SGwufNoSl8Ez",
        "colab": {
          "base_uri": "https://localhost:8080/"
        },
        "outputId": "e005640e-ab5e-4929-81ff-de768f9f97b6"
      },
      "source": [
        "from sklearn.linear_model import LinearRegression\n",
        "linreg= LinearRegression().fit(X_train, y_train)\n",
        "w = linreg.coef_\n",
        "b = linreg.intercept_\n",
        "print(w,b)\n",
        "linreg.score(X_train,y_train)"
      ],
      "execution_count": null,
      "outputs": [
        {
          "output_type": "stream",
          "name": "stdout",
          "text": [
            "[-2.90263676e+07 -1.63544721e+04 -6.90938424e+04  1.53828363e+05\n",
            "  6.83800489e+04] 56140500765.18223\n"
          ]
        },
        {
          "output_type": "execute_result",
          "data": {
            "text/plain": [
              "0.9141702175188924"
            ]
          },
          "metadata": {},
          "execution_count": 97
        }
      ]
    },
    {
      "cell_type": "code",
      "metadata": {
        "id": "DqqNzaxumpe-",
        "colab": {
          "base_uri": "https://localhost:8080/"
        },
        "outputId": "5b212105-461d-4e8c-b213-ad9ac9507240"
      },
      "source": [
        "linreg.score(X_test,y_test)"
      ],
      "execution_count": null,
      "outputs": [
        {
          "output_type": "execute_result",
          "data": {
            "text/plain": [
              "0.4802342079284314"
            ]
          },
          "metadata": {},
          "execution_count": 98
        }
      ]
    },
    {
      "cell_type": "code",
      "metadata": {
        "id": "TqSnthOtnL0M"
      },
      "source": [
        "def plot_target_and_prediction(reg, X_test, y_test):\n",
        "    import matplotlib.pyplot as plt\n",
        "    y_test_pred = reg.predict(X_test)\n",
        "    plt.scatter(y_test, y_test_pred, marker= 'o')\n",
        "    plt.plot(y_test, y_test, 'r-')\n",
        "    plt.title('R2 ={}'.format(reg.score(X_test, y_test)))\n",
        "    plt.xlabel('Target total volume per year')\n",
        "    plt.ylabel('Predicted total volume per year')\n",
        "    plt.tight_layout()\n",
        "    plt.show()"
      ],
      "execution_count": null,
      "outputs": []
    },
    {
      "cell_type": "code",
      "metadata": {
        "id": "2bVxHFIqne3P",
        "colab": {
          "base_uri": "https://localhost:8080/",
          "height": 349
        },
        "outputId": "a1c3a5f8-65ae-419c-adaa-1e2a26236b40"
      },
      "source": [
        "from sklearn.ensemble import RandomForestRegressor\n",
        "from sklearn.metrics import mean_absolute_error\n",
        "rf_reg = RandomForestRegressor(max_features = 3, random_state=0).fit(X_train, y_train)\n",
        "print(rf_reg.score(X_train, y_train))\n",
        "print(rf_reg.score(X_test, y_test))\n",
        "print(mean_absolute_error(rf_reg.predict(X_test), y_test))\n",
        "plot_target_and_prediction(rf_reg, X_test, y_test)"
      ],
      "execution_count": null,
      "outputs": [
        {
          "output_type": "stream",
          "name": "stdout",
          "text": [
            "0.9900940896612864\n",
            "0.6721670412781965\n",
            "106094164.37067272\n"
          ]
        },
        {
          "output_type": "display_data",
          "data": {
            "image/png": "[encoded data removed]",
            "text/plain": [
              "<Figure size 432x288 with 1 Axes>"
            ]
          },
          "metadata": {
            "needs_background": "light"
          }
        }
      ]
    },
    {
      "cell_type": "code",
      "metadata": {
        "id": "MzfnqhlSpUHJ"
      },
      "source": [
        ""
      ],
      "execution_count": null,
      "outputs": []
    }
  ]
}